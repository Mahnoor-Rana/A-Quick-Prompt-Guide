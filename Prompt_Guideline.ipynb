{
 "cells": [
  {
   "cell_type": "markdown",
   "id": "0aba15e2",
   "metadata": {},
   "source": [
    "<h1 style=\"text-align:center\">Creative Writing Prompts Powered by AI</h1>\n"
   ]
  },
  {
   "cell_type": "markdown",
   "id": "8a8f41e5",
   "metadata": {},
   "source": [
    "## Installing Library"
   ]
  },
  {
   "cell_type": "code",
   "execution_count": 10,
   "id": "899470e2",
   "metadata": {},
   "outputs": [
    {
     "name": "stdout",
     "output_type": "stream",
     "text": [
      "Requirement already satisfied: python-dotenv in d:\\installation\\lib\\site-packages (1.0.0)\n",
      "Note: you may need to restart the kernel to use updated packages.\n"
     ]
    }
   ],
   "source": [
    "pip install python-dotenv"
   ]
  },
  {
   "cell_type": "markdown",
   "id": "1be27577",
   "metadata": {},
   "source": [
    "## Importing  Libraries"
   ]
  },
  {
   "cell_type": "code",
   "execution_count": 2,
   "id": "4f072e56",
   "metadata": {},
   "outputs": [],
   "source": [
    "import os\n",
    "import dotenv\n",
    "import openai"
   ]
  },
  {
   "cell_type": "markdown",
   "id": "c6bfd4b9",
   "metadata": {},
   "source": [
    "### API key"
   ]
  },
  {
   "cell_type": "markdown",
   "id": "33a276bf",
   "metadata": {},
   "source": [
    "### Create local env for API key \n",
    "- Create File of env and paste your api key there"
   ]
  },
  {
   "cell_type": "code",
   "execution_count": 3,
   "id": "5ef3aea4",
   "metadata": {},
   "outputs": [],
   "source": [
    "from dotenv import load_dotenv, find_dotenv\n",
    "_ = load_dotenv(find_dotenv()) # read local .env file\n",
    "\n"
   ]
  },
  {
   "cell_type": "code",
   "execution_count": 4,
   "id": "8107bc94",
   "metadata": {},
   "outputs": [],
   "source": [
    "openai.api_key  = os.getenv('OPENAI_API_KEY')"
   ]
  },
  {
   "cell_type": "markdown",
   "id": "68c34e57",
   "metadata": {},
   "source": [
    "### API Function"
   ]
  },
  {
   "cell_type": "markdown",
   "id": "aad9688a",
   "metadata": {},
   "source": [
    "### This function uses OpenAI's ChatCompletion API to generate a response to a given prompt using a specified language model."
   ]
  },
  {
   "cell_type": "code",
   "execution_count": 3,
   "id": "b8b6bbde",
   "metadata": {},
   "outputs": [],
   "source": [
    "def chat_completion(prompt, model=\"gpt-3.5-turbo\"):\n",
    "    messages = [{\"role\": \"user\", \"content\": prompt}]\n",
    "    response = openai.ChatCompletion.create(\n",
    "        model=model,\n",
    "        messages=messages,\n",
    "        temperature=0, # this is the degree of randomness of the model's output\n",
    "    )\n",
    "    return response.choices[0].message[\"content\"]\n"
   ]
  },
  {
   "cell_type": "markdown",
   "id": "7c19b0e7",
   "metadata": {},
   "source": [
    "## How to write prompt\n",
    "- Here are the basic steps to  follow\n",
    "### Follow these steps \n",
    "- These are "
   ]
  },
  {
   "cell_type": "markdown",
   "id": "fe4a0125",
   "metadata": {},
   "source": [
    "### Principles\n",
    "- <strong>Write clear and specific instruction</strong>\n",
    "- <strong>Give model time to think</strong>"
   ]
  },
  {
   "cell_type": "markdown",
   "id": "7a2b377a",
   "metadata": {},
   "source": [
    "## Principle 1"
   ]
  },
  {
   "cell_type": "markdown",
   "id": "775d4fc3",
   "metadata": {},
   "source": [
    "### Approaches\n",
    "<strong>Strategy 1:\n",
    "   -  Use delimiters to clearly indicate distinct parts of the input\n",
    "Delimiters can be anything like: ''', \"\"\", < >, <tag> </tag>, :</strong>"
   ]
  },
  {
   "cell_type": "code",
   "execution_count": 4,
   "id": "5f2c91d8",
   "metadata": {},
   "outputs": [
    {
     "data": {
      "text/plain": [
       "'Mahnoor Rana provides guidance on writing concise prompts to improve communication skills in various contexts.'"
      ]
     },
     "execution_count": 4,
     "metadata": {},
     "output_type": "execute_result"
    }
   ],
   "source": [
    "text = f\"\"\"I am Mahnoor Rana, and I have a strong passion for machine learning  / \n",
    "and artificial intelligence. In this notebook, I have provided helpful guidance / \n",
    "on how to write concise prompts. The aim of this guide is to assist individuals in / \n",
    "improving their writing skills and creating more effective prompts. By following the guidance /\n",
    "I have provided, you can learn how to communicate your ideas more clearly and  concisely,/\n",
    "which can be useful in various contexts, such as academic research, professional communication, and personal writing.\"\"\"\n",
    "\n",
    "prompt = f\"\"\" Summarize this text into single line '''{text}''' \"\"\"\n",
    "response = chat_completion(prompt)\n",
    "response"
   ]
  },
  {
   "cell_type": "markdown",
   "id": "1f7bd6f0",
   "metadata": {},
   "source": [
    "<strong> Strategy 2: </strong>\n",
    "  -  Ask for a structured output\n",
    "        like html or json"
   ]
  },
  {
   "cell_type": "markdown",
   "id": "69c9264f",
   "metadata": {},
   "source": [
    "### HTML Format\n",
    "\n",
    "### Try to give statement clearly"
   ]
  },
  {
   "cell_type": "code",
   "execution_count": 5,
   "id": "2d51123f",
   "metadata": {},
   "outputs": [
    {
     "data": {
      "text/plain": [
       "'<ul>\\n  <li>\\n    <strong>The Eiffel Tower</strong><br>\\n    Champ de Mars, 5 Avenue Anatole France, 75007 Paris, France<br>\\n    Open daily from 9:00am to 11:45pm\\n  </li>\\n  <li>\\n    <strong>The Louvre Museum</strong><br>\\n    Rue de Rivoli, 75001 Paris, France<br>\\n    Open Wednesday to Monday from 9:00am to 6:00pm, closed on Tuesdays\\n  </li>\\n  <li>\\n    <strong>Notre-Dame Cathedral</strong><br>\\n    6 Parvis Notre-Dame - Pl. Jean-Paul II, 75004 Paris, France<br>\\n    Open daily from 7:45am to 6:45pm\\n  </li>\\n</ul>'"
      ]
     },
     "execution_count": 5,
     "metadata": {},
     "output_type": "execute_result"
    }
   ],
   "source": [
    "prompt = f\"\"\"\n",
    "Create a list of three tourist attractions in a city of your choice, along with their addresses and opening hours. / \n",
    "Use HTML format to display the information in an unordered list with appropriate tags and attributes.\"\"\"\n",
    "\n",
    "\n",
    "response = chat_completion(prompt)\n",
    "response"
   ]
  },
  {
   "cell_type": "markdown",
   "id": "66d0fdf5",
   "metadata": {},
   "source": [
    "### JSON Format"
   ]
  },
  {
   "cell_type": "code",
   "execution_count": 6,
   "id": "c4c736f6",
   "metadata": {},
   "outputs": [
    {
     "data": {
      "text/plain": [
       "'{\\n    \"city\": \"Paris\",\\n    \"attractions\": [\\n        {\\n            \"name\": \"Eiffel Tower\",\\n            \"address\": \"Champ de Mars, 5 Avenue Anatole France, 75007 Paris, France\",\\n            \"opening_hours\": \"9:00 AM - 11:45 PM\"\\n        },\\n        {\\n            \"name\": \"Louvre Museum\",\\n            \"address\": \"Rue de Rivoli, 75001 Paris, France\",\\n            \"opening_hours\": \"9:00 AM - 6:00 PM\"\\n        },\\n        {\\n            \"name\": \"Notre-Dame Cathedral\",\\n            \"address\": \"6 Parvis Notre-Dame - Pl. Jean-Paul II, 75004 Paris, France\",\\n            \"opening_hours\": \"7:45 AM - 6:45 PM\"\\n        }\\n    ]\\n}'"
      ]
     },
     "execution_count": 6,
     "metadata": {},
     "output_type": "execute_result"
    }
   ],
   "source": [
    "prompt = f\"\"\"\n",
    "Create a JSON list of three tourist attractions in a city of your choice,/\n",
    "along with their addresses and opening hours. The list should have a key named/\n",
    "\"city\" with the name of the city, and another key named \"attractions\" which is  /\n",
    "a list of dictionaries, where each dictionary represents an attraction and has the /\n",
    "following keys: \"name\", \"address\", \"opening_hours\".\n",
    "\n",
    "\"\"\"\n",
    "\n",
    "\n",
    "response = chat_completion(prompt)\n",
    "response"
   ]
  },
  {
   "cell_type": "markdown",
   "id": "48ff175c",
   "metadata": {},
   "source": [
    "<strong>Strategy 3:  </strong>\n",
    "  - Ask the model to check whether conditions are satisfied or  not "
   ]
  },
  {
   "cell_type": "code",
   "execution_count": 7,
   "id": "df1bbdff",
   "metadata": {},
   "outputs": [
    {
     "name": "stdout",
     "output_type": "stream",
     "text": [
      "Completion for Text 1:\n",
      "Step 1 - Get some water boiling.\n",
      "Step 2 - Grab a cup and put a tea bag in it.\n",
      "Step 3 - Once the water is hot enough, pour it over the tea bag.\n",
      "Step 4 - Let it sit for a bit so the tea can steep.\n",
      "Step 5 - After a few minutes, take out the tea bag.\n",
      "Step 6 - Add some sugar or milk to taste.\n",
      "Step 7 - Enjoy your delicious cup of tea!\n"
     ]
    }
   ],
   "source": [
    "text_1 = f\"\"\"\n",
    "Making a cup of tea is easy! First, you need to get some \\ \n",
    "water boiling. While that's happening, \\ \n",
    "grab a cup and put a tea bag in it. Once the water is \\ \n",
    "hot enough, just pour it over the tea bag. \\ \n",
    "Let it sit for a bit so the tea can steep. After a \\ \n",
    "few minutes, take out the tea bag. If you \\ \n",
    "like, you can add some sugar or milk to taste. \\ \n",
    "And that's it! You've got yourself a delicious \\ \n",
    "cup of tea to enjoy.\n",
    "\"\"\"\n",
    "prompt = f\"\"\"\n",
    "You will be provided with text delimited by triple quotes. \n",
    "If it contains a sequence of instructions, \\ \n",
    "re-write those instructions in the following format:\n",
    "\n",
    "Step 1 - ...\n",
    "Step 2 - …\n",
    "…\n",
    "Step N - …\n",
    "\n",
    "If the text does not contain a sequence of instructions, \\ \n",
    "then simply write \\\"No steps provided.\\\"\n",
    "\n",
    "\\\"\\\"\\\"{text_1}\\\"\\\"\\\"\n",
    "\"\"\"\n",
    "response = chat_completion(prompt)\n",
    "print(\"Completion for Text 1:\")\n",
    "print(response)"
   ]
  },
  {
   "cell_type": "code",
   "execution_count": 8,
   "id": "8834cc5e",
   "metadata": {},
   "outputs": [
    {
     "name": "stdout",
     "output_type": "stream",
     "text": [
      "Completion for Text 2:\n",
      "No steps provided.\n"
     ]
    }
   ],
   "source": [
    "text_2 = f\"\"\"\n",
    "The sun is shining brightly today, and the birds are \\\n",
    "singing. It's a beautiful day to go for a \\ \n",
    "walk in the park. The flowers are blooming, and the \\ \n",
    "trees are swaying gently in the breeze. People \\ \n",
    "are out and about, enjoying the lovely weather. \\ \n",
    "Some are having picnics, while others are playing \\ \n",
    "games or simply relaxing on the grass. It's a \\ \n",
    "perfect day to spend time outdoors and appreciate the \\ \n",
    "beauty of nature.\n",
    "\"\"\"\n",
    "prompt = f\"\"\"\n",
    "You will be provided with text delimited by triple quotes. \n",
    "If it contains a sequence of instructions, \\ \n",
    "re-write those instructions in the following format:\n",
    "\n",
    "Step 1 - ...\n",
    "Step 2 - …\n",
    "…\n",
    "Step N - …\n",
    "\n",
    "If the text does not contain a sequence of instructions, \\ \n",
    "then simply write \\\"No steps provided.\\\"\n",
    "\n",
    "\\\"\\\"\\\"{text_2}\\\"\\\"\\\"\n",
    "\"\"\"\n",
    "response = chat_completion(prompt)\n",
    "print(\"Completion for Text 2:\")\n",
    "print(response)"
   ]
  },
  {
   "cell_type": "markdown",
   "id": "e96e30b5",
   "metadata": {},
   "source": [
    "## Principle 2: Give the model time to “think” \n",
    "\n"
   ]
  },
  {
   "cell_type": "markdown",
   "id": "05126a6c",
   "metadata": {},
   "source": [
    "<strong> Strategy 1: </strong>\n",
    "   - Specify the steps required to complete a task"
   ]
  },
  {
   "cell_type": "code",
   "execution_count": 9,
   "id": "04c051ce",
   "metadata": {},
   "outputs": [
    {
     "name": "stdout",
     "output_type": "stream",
     "text": [
      "Completion for prompt 1:\n",
      "Harry Potter discovers he is a wizard and attends Hogwarts School of Witchcraft and Wizardry, but uncovers a dangerous secret that puts his loved ones in danger.\n",
      "\n",
      "Important words: magic, orphan, Harry Potter, wizard, Hogwarts School of Witchcraft and Wizardry, friends, mysteries, dark, dangerous, secret, threatens, loved ones.\n"
     ]
    }
   ],
   "source": [
    "text = f\"\"\"\n",
    "In a world of magic, a young orphan boy named Harry Potter discovers that he is actually a wizard. He is whisked away to the Hogwarts School of Witchcraft and Wizardry, where he makes new friends and learns about the magical world he never knew existed. But as he delves deeper into the mysteries of the wizarding world, he uncovers a dark and dangerous secret that threatens not only himself, but all those he holds dear.\n",
    "\n",
    "\"\"\"\n",
    "\n",
    "prompt = f\"\"\"\n",
    "Perform the following actions:\n",
    "1 - Summarize the following text  with 1 sentence.\n",
    "2 - Select Important words\n",
    "\n",
    "\n",
    "Separate your answers with line breaks.\n",
    "'''{text}'''\n",
    "\"\"\"\n",
    "response = chat_completion(prompt)\n",
    "print(\"Completion for prompt 1:\")\n",
    "print(response)"
   ]
  },
  {
   "cell_type": "markdown",
   "id": "376c5892",
   "metadata": {},
   "source": [
    "<strong> Strategy 2: </strong>\n",
    "-  Instruct the model to work out its own solution before rushing to a conclusion"
   ]
  },
  {
   "cell_type": "code",
   "execution_count": 10,
   "id": "f66251f9",
   "metadata": {},
   "outputs": [
    {
     "name": "stdout",
     "output_type": "stream",
     "text": [
      "The student's solution is correct.\n"
     ]
    }
   ],
   "source": [
    "prompt = f\"\"\"\n",
    "Determine if the student's solution is correct or not.\n",
    "\n",
    "Question:\n",
    "I'm building a solar power installation and I need \\\n",
    " help working out the financials. \n",
    "- Land costs $100 / square foot\n",
    "- I can buy solar panels for $250 / square foot\n",
    "- I negotiated a contract for maintenance that will cost \\ \n",
    "me a flat $100k per year, and an additional $10 / square \\\n",
    "foot\n",
    "What is the total cost for the first year of operations \n",
    "as a function of the number of square feet.\n",
    "\n",
    "Student's Solution:\n",
    "Let x be the size of the installation in square feet.\n",
    "Costs:\n",
    "1. Land cost: 100x\n",
    "2. Solar panel cost: 250x\n",
    "3. Maintenance cost: 100,000 + 100x\n",
    "Total cost: 100x + 250x + 100,000 + 100x = 450x + 100,000\n",
    "\"\"\"\n",
    "response = chat_completion(prompt)\n",
    "print(response)"
   ]
  },
  {
   "cell_type": "markdown",
   "id": "9a7c9b7d",
   "metadata": {},
   "source": [
    "<strong> \n",
    "    \n",
    "- Note that the student's solution is actually not correct.\n",
    "- We can fix this by instructing the model to work out its own solution first.</strong>"
   ]
  },
  {
   "cell_type": "code",
   "execution_count": 11,
   "id": "5c32bd38",
   "metadata": {},
   "outputs": [
    {
     "name": "stdout",
     "output_type": "stream",
     "text": [
      "Let x be the size of the installation in square feet.\n",
      "\n",
      "Costs:\n",
      "1. Land cost: 100x\n",
      "2. Solar panel cost: 250x\n",
      "3. Maintenance cost: 100,000 + 10x\n",
      "\n",
      "Total cost: 100x + 250x + 100,000 + 10x = 360x + 100,000\n",
      "\n",
      "Is the student's solution the same as actual solution just calculated:\n",
      "No\n",
      "\n",
      "Student grade:\n",
      "Incorrect\n"
     ]
    }
   ],
   "source": [
    "prompt = f\"\"\"\n",
    "Your task is to determine if the student's solution \\\n",
    "is correct or not.\n",
    "To solve the problem do the following:\n",
    "- First, work out your own solution to the problem. \n",
    "- Then compare your solution to the student's solution \\ \n",
    "and evaluate if the student's solution is correct or not. \n",
    "Don't decide if the student's solution is correct until \n",
    "you have done the problem yourself.\n",
    "\n",
    "Use the following format:\n",
    "Question:\n",
    "```\n",
    "question here\n",
    "```\n",
    "Student's solution:\n",
    "```\n",
    "student's solution here\n",
    "```\n",
    "Actual solution:\n",
    "```\n",
    "steps to work out the solution and your solution here\n",
    "```\n",
    "Is the student's solution the same as actual solution \\\n",
    "just calculated:\n",
    "```\n",
    "yes or no\n",
    "```\n",
    "Student grade:\n",
    "```\n",
    "correct or incorrect\n",
    "```\n",
    "\n",
    "Question:\n",
    "```\n",
    "I'm building a solar power installation and I need help \\\n",
    "working out the financials. \n",
    "- Land costs $100 / square foot\n",
    "- I can buy solar panels for $250 / square foot\n",
    "- I negotiated a contract for maintenance that will cost \\\n",
    "me a flat $100k per year, and an additional $10 / square \\\n",
    "foot\n",
    "What is the total cost for the first year of operations \\\n",
    "as a function of the number of square feet.\n",
    "``` \n",
    "Student's solution:\n",
    "```\n",
    "Let x be the size of the installation in square feet.\n",
    "Costs:\n",
    "1. Land cost: 100x\n",
    "2. Solar panel cost: 250x\n",
    "3. Maintenance cost: 100,000 + 100x\n",
    "Total cost: 100x + 250x + 100,000 + 100x = 450x + 100,000\n",
    "```\n",
    "Actual solution:\n",
    "\"\"\"\n",
    "response = chat_completion(prompt)\n",
    "print(response)"
   ]
  }
 ],
 "metadata": {
  "kernelspec": {
   "display_name": "Python 3 (ipykernel)",
   "language": "python",
   "name": "python3"
  },
  "language_info": {
   "codemirror_mode": {
    "name": "ipython",
    "version": 3
   },
   "file_extension": ".py",
   "mimetype": "text/x-python",
   "name": "python",
   "nbconvert_exporter": "python",
   "pygments_lexer": "ipython3",
   "version": "3.10.9"
  }
 },
 "nbformat": 4,
 "nbformat_minor": 5
}
